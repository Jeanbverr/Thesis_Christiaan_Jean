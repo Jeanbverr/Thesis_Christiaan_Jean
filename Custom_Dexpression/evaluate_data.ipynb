{
 "cells": [
  {
   "cell_type": "markdown",
   "metadata": {},
   "source": [
    "## loading NPY files"
   ]
  },
  {
   "cell_type": "code",
   "execution_count": 1,
   "metadata": {},
   "outputs": [],
   "source": [
    "import numpy as np\n",
    "import cv2\n",
    "import os\n",
    "\n",
    "from showNumpyInfo import showInfo\n",
    "from memory_profiler import memory_usage\n"
   ]
  },
  {
   "cell_type": "code",
   "execution_count": 2,
   "metadata": {},
   "outputs": [],
   "source": [
    "os.chdir('G:/Documenten/personal/school/MaNaMA_AI/thesis/implementation/dexpression/MMI_data_creation/Thesis_Christiaan_Jean/Custom_Dexpression')"
   ]
  },
  {
   "cell_type": "code",
   "execution_count": 3,
   "metadata": {},
   "outputs": [],
   "source": [
    "MUG_path = \"./MUG/output_npy/MUG/\"\n",
    "MMI_path = \"./MMI/linux_output/\"\n",
    "CASPEAL_path = \"./output_npy/CASPEAL/\"\n",
    "JAFFE_path = \"./output_npy/JAFFE/\""
   ]
  },
  {
   "cell_type": "code",
   "execution_count": 4,
   "metadata": {},
   "outputs": [],
   "source": [
    "chosenDataset = 'MUG'"
   ]
  },
  {
   "cell_type": "code",
   "execution_count": 5,
   "metadata": {},
   "outputs": [],
   "source": [
    "\n",
    "if(chosenDataset == 'MUG'):\n",
    "    data =  [np.load(MUG_path + 'X.npy'), np.load(MUG_path + 'Y.npy'), np.load(MUG_path + 'subjectIDs.npy')]\n",
    "elif(chosenDataset == 'MMI'):\n",
    "    data = [np.load(MMI_path + 'X.npy'), np.load(MMI_path + 'Y.npy'), np.load(MMI_path + 'subjectIDs.npy')]\n",
    "elif(chosenDataset == 'CASPEAL'):\n",
    "    data = [np.load(CASPEAL_path +'X.npy'), np.load(CASPEAL_path +'Y.npy'), np.load(CASPEAL_path +'subjectIDs.npy')]\n",
    "elif(chosenDataset == 'JAFFE'):    \n",
    "    data = [np.load(JAFFE_path + 'X.npy'), np.load(JAFFE_path + 'Y.npy'), np.load(JAFFE_path + 'subjectIDs.npy')]"
   ]
  },
  {
   "cell_type": "code",
   "execution_count": null,
   "metadata": {},
   "outputs": [],
   "source": []
  },
  {
   "cell_type": "markdown",
   "metadata": {},
   "source": [
    "## Early details\n"
   ]
  },
  {
   "cell_type": "code",
   "execution_count": 6,
   "metadata": {},
   "outputs": [
    {
     "name": "stdout",
     "output_type": "stream",
     "text": [
      "MUG\n",
      "Name  X_images_input\n",
      "type:  <class 'numpy.ndarray'>\n",
      "Dtype:  uint8\n",
      "shape:  (326, 224, 224, 1)\n",
      "Name  Y_emotions_output\n",
      "type:  <class 'numpy.ndarray'>\n",
      "Dtype:  float64\n",
      "shape:  (326, 7)\n",
      "Name  subjectIDS\n",
      "type:  <class 'numpy.ndarray'>\n",
      "Dtype:  <U9\n",
      "shape:  (326,)\n",
      "[[1. 0. 0. 0. 0. 0. 0.]\n",
      " [1. 0. 0. 0. 0. 0. 0.]\n",
      " [1. 0. 0. 0. 0. 0. 0.]\n",
      " [1. 0. 0. 0. 0. 0. 0.]\n",
      " [1. 0. 0. 0. 0. 0. 0.]\n",
      " [1. 0. 0. 0. 0. 0. 0.]\n",
      " [1. 0. 0. 0. 0. 0. 0.]\n",
      " [1. 0. 0. 0. 0. 0. 0.]\n",
      " [1. 0. 0. 0. 0. 0. 0.]\n",
      " [1. 0. 0. 0. 0. 0. 0.]\n",
      " [1. 0. 0. 0. 0. 0. 0.]\n",
      " [1. 0. 0. 0. 0. 0. 0.]\n",
      " [1. 0. 0. 0. 0. 0. 0.]\n",
      " [1. 0. 0. 0. 0. 0. 0.]\n",
      " [1. 0. 0. 0. 0. 0. 0.]\n",
      " [1. 0. 0. 0. 0. 0. 0.]\n",
      " [1. 0. 0. 0. 0. 0. 0.]\n",
      " [1. 0. 0. 0. 0. 0. 0.]\n",
      " [1. 0. 0. 0. 0. 0. 0.]\n",
      " [1. 0. 0. 0. 0. 0. 0.]]\n",
      "['databases' 'databases' 'databases' 'databases' 'databases' 'databases'\n",
      " 'databases' 'databases' 'databases' 'databases' 'databases' 'databases'\n",
      " 'databases' 'databases' 'databases' 'databases' 'databases' 'databases'\n",
      " 'databases' 'databases']\n",
      "Maximum memory usage is [76.09765625, 76.09765625]\n"
     ]
    }
   ],
   "source": [
    "print(chosenDataset)\n",
    "# displays: type, Dtype and shape\n",
    "showInfo(data[0],'X_images_input')\n",
    "showInfo(data[1],'Y_emotions_output')\n",
    "showInfo(data[2],\"subjectIDS\")\n",
    "\n",
    "# samples of the labels\n",
    "print(data[1][:20])\n",
    "# samples of the subjectIDS\n",
    "print(data[2][:20])\n",
    "\n",
    "# how much memory is used for just loading the data\n",
    "mem_usage = memory_usage(-1, interval=.5, timeout=1)\n",
    "str = 'Maximum memory usage is ' + repr( mem_usage)\n",
    "print(str)"
   ]
  },
  {
   "cell_type": "markdown",
   "metadata": {},
   "source": [
    "## create emotional labels"
   ]
  },
  {
   "cell_type": "code",
   "execution_count": 13,
   "metadata": {},
   "outputs": [],
   "source": [
    "angry = np.array([1.0,0.0,0.0,0.0,0.0,0.0,0.0])\n",
    "neutral = np.array([0.0,1.0,0.0,0.0,0.0,0.0,0.0])\n",
    "disgust = np.array([0.0,0.0,1.0,0.0,0.0,0.0,0.0])\n",
    "fear = np.array([0.0,0.0,0.0,1.0,0.0,0.0,0.0])\n",
    "happy = np.array([0.0,0.0,0.0,0.0,1.0,0.0,0.0])\n",
    "sad = np.array([0.0,0.0,0.0,0.0,0.0,1.0,0.0])\n",
    "surprise = np.array([0.0,0.0,0.0,0.0,0.0,0.0,1.0])"
   ]
  },
  {
   "cell_type": "code",
   "execution_count": 14,
   "metadata": {},
   "outputs": [],
   "source": [
    "def create_emotion_list(database):\n",
    "    emotion_list = []\n",
    "    for i in range(len(database[1])):\n",
    "        if(np.array_equal(angry,database[1][i])):\n",
    "            emotion = 'angry'\n",
    "            emotion_list.append(emotion)\n",
    "        elif(np.array_equal(neutral,database[1][i])):\n",
    "            emotion = 'neutral'\n",
    "            emotion_list.append(emotion)\n",
    "        elif(np.array_equal(disgust,database[1][i])):\n",
    "            emotion = 'disgust'\n",
    "            emotion_list.append(emotion)\n",
    "        elif(np.array_equal(fear,database[1][i])):\n",
    "            emotion = 'fear'\n",
    "            emotion_list.append(emotion)\n",
    "        elif(np.array_equal(happy,database[1][i])):\n",
    "            emotion = 'happy'\n",
    "            emotion_list.append(emotion)\n",
    "        elif(np.array_equal(sad,database[1][i])):\n",
    "            emotion = 'sad'\n",
    "            emotion_list.append(emotion)\n",
    "        elif(np.array_equal(surprise,database[1][i])):\n",
    "            emotion = 'surprise'\n",
    "            emotion_list.append(emotion)\n",
    "    return emotion_list"
   ]
  },
  {
   "cell_type": "markdown",
   "metadata": {},
   "source": [
    "## Veryfying emotion vs face"
   ]
  },
  {
   "cell_type": "code",
   "execution_count": 15,
   "metadata": {},
   "outputs": [],
   "source": [
    "data_emotion = create_emotion_list(data)"
   ]
  },
  {
   "cell_type": "markdown",
   "metadata": {},
   "source": [
    "## Printing emotion vs face imshow"
   ]
  },
  {
   "cell_type": "code",
   "execution_count": 16,
   "metadata": {},
   "outputs": [],
   "source": [
    "def print_database_pics(database, emotions):\n",
    "    for i in range(len(database[0])):\n",
    "        cv2.imshow(database[2][i] +\"i: \"+ repr(i) +\": \"+ emotions[i], database[0][i].astype('uint8'))\n",
    "        cv2.waitKey(0)\n",
    "        cv2.destroyAllWindows()"
   ]
  },
  {
   "cell_type": "code",
   "execution_count": 17,
   "metadata": {},
   "outputs": [
    {
     "name": "stdout",
     "output_type": "stream",
     "text": [
      "S050\n",
      "S050\n",
      "S050\n",
      "S050\n",
      "S050\n",
      "S050\n",
      "S050\n",
      "S050\n",
      "S050\n",
      "S050\n",
      "S050\n",
      "S050\n",
      "S050\n",
      "S050\n",
      "S050\n",
      "S050\n",
      "S050\n",
      "S050\n",
      "S050\n",
      "S050\n",
      "S050\n",
      "S050\n",
      "S050\n",
      "S050\n",
      "S050\n",
      "S050\n",
      "S050\n",
      "S050\n",
      "S050\n",
      "S050\n",
      "S050\n",
      "S044\n",
      "S044\n",
      "S044\n",
      "S044\n",
      "S044\n",
      "S044\n",
      "S044\n",
      "S044\n",
      "S044\n",
      "S044\n",
      "S044\n",
      "S044\n",
      "S044\n",
      "S044\n",
      "S044\n",
      "S044\n",
      "S044\n",
      "S044\n",
      "S044\n",
      "S044\n",
      "S044\n",
      "S044\n",
      "S044\n",
      "S044\n"
     ]
    },
    {
     "ename": "KeyboardInterrupt",
     "evalue": "",
     "output_type": "error",
     "traceback": [
      "\u001b[1;31m---------------------------------------------------------------------------\u001b[0m",
      "\u001b[1;31mKeyboardInterrupt\u001b[0m                         Traceback (most recent call last)",
      "\u001b[1;32m<ipython-input-17-514e35805169>\u001b[0m in \u001b[0;36m<module>\u001b[1;34m()\u001b[0m\n\u001b[1;32m----> 1\u001b[1;33m \u001b[0mprint_database_pics\u001b[0m\u001b[1;33m(\u001b[0m\u001b[0mdata\u001b[0m\u001b[1;33m,\u001b[0m \u001b[0mdata_emotion\u001b[0m\u001b[1;33m)\u001b[0m\u001b[1;33m\u001b[0m\u001b[0m\n\u001b[0m",
      "\u001b[1;32m<ipython-input-16-c9acd70f6a69>\u001b[0m in \u001b[0;36mprint_database_pics\u001b[1;34m(database, emotions)\u001b[0m\n\u001b[0;32m      3\u001b[0m         \u001b[0mprint\u001b[0m\u001b[1;33m(\u001b[0m\u001b[0mdatabase\u001b[0m\u001b[1;33m[\u001b[0m\u001b[1;36m2\u001b[0m\u001b[1;33m]\u001b[0m\u001b[1;33m[\u001b[0m\u001b[0mi\u001b[0m\u001b[1;33m]\u001b[0m\u001b[1;33m)\u001b[0m\u001b[1;33m\u001b[0m\u001b[0m\n\u001b[0;32m      4\u001b[0m         \u001b[0mcv2\u001b[0m\u001b[1;33m.\u001b[0m\u001b[0mimshow\u001b[0m\u001b[1;33m(\u001b[0m\u001b[1;34m\"S \"\u001b[0m\u001b[1;33m+\u001b[0m \u001b[0mdatabase\u001b[0m\u001b[1;33m[\u001b[0m\u001b[1;36m2\u001b[0m\u001b[1;33m]\u001b[0m\u001b[1;33m[\u001b[0m\u001b[0mi\u001b[0m\u001b[1;33m]\u001b[0m \u001b[1;33m+\u001b[0m\u001b[1;34m\"i: \"\u001b[0m\u001b[1;33m+\u001b[0m \u001b[0mrepr\u001b[0m\u001b[1;33m(\u001b[0m\u001b[0mi\u001b[0m\u001b[1;33m)\u001b[0m \u001b[1;33m+\u001b[0m\u001b[1;34m\": \"\u001b[0m\u001b[1;33m+\u001b[0m \u001b[0memotions\u001b[0m\u001b[1;33m[\u001b[0m\u001b[0mi\u001b[0m\u001b[1;33m]\u001b[0m\u001b[1;33m,\u001b[0m \u001b[0mdatabase\u001b[0m\u001b[1;33m[\u001b[0m\u001b[1;36m0\u001b[0m\u001b[1;33m]\u001b[0m\u001b[1;33m[\u001b[0m\u001b[0mi\u001b[0m\u001b[1;33m]\u001b[0m\u001b[1;33m.\u001b[0m\u001b[0mastype\u001b[0m\u001b[1;33m(\u001b[0m\u001b[1;34m'uint8'\u001b[0m\u001b[1;33m)\u001b[0m\u001b[1;33m)\u001b[0m\u001b[1;33m\u001b[0m\u001b[0m\n\u001b[1;32m----> 5\u001b[1;33m         \u001b[0mcv2\u001b[0m\u001b[1;33m.\u001b[0m\u001b[0mwaitKey\u001b[0m\u001b[1;33m(\u001b[0m\u001b[1;36m0\u001b[0m\u001b[1;33m)\u001b[0m\u001b[1;33m\u001b[0m\u001b[0m\n\u001b[0m\u001b[0;32m      6\u001b[0m         \u001b[0mcv2\u001b[0m\u001b[1;33m.\u001b[0m\u001b[0mdestroyAllWindows\u001b[0m\u001b[1;33m(\u001b[0m\u001b[1;33m)\u001b[0m\u001b[1;33m\u001b[0m\u001b[0m\n",
      "\u001b[1;31mKeyboardInterrupt\u001b[0m: "
     ]
    }
   ],
   "source": [
    "print_database_pics(data, data_emotion)"
   ]
  },
  {
   "cell_type": "markdown",
   "metadata": {},
   "source": [
    "### Storing neutral faces and corresponding subject IDs"
   ]
  },
  {
   "cell_type": "code",
   "execution_count": 18,
   "metadata": {},
   "outputs": [],
   "source": [
    "def get_neutral_faces(database, emotions):\n",
    "    neutral_faces = []\n",
    "    subject_ID = []\n",
    "    for i in range(len(database[0])):\n",
    "        if(emotions[i] == 'neutral'):\n",
    "            neutral_faces.append(database[0][i])\n",
    "            subject_ID.append(database[2][i])\n",
    "    return neutral_faces, subject_ID"
   ]
  },
  {
   "cell_type": "code",
   "execution_count": 19,
   "metadata": {},
   "outputs": [],
   "source": [
    "#Index 0: pics, index 1: subject IDs\n",
    "neutral_data = get_neutral_faces(data, data_emotion)"
   ]
  },
  {
   "cell_type": "markdown",
   "metadata": {},
   "source": [
    "### Checking neutral faces and subject IDs\n"
   ]
  },
  {
   "cell_type": "code",
   "execution_count": 20,
   "metadata": {},
   "outputs": [],
   "source": [
    "def print_neutral_faces(neutral_database):\n",
    "    for i in range(len(neutral_database[0])):\n",
    "        cv2.imshow(neutral_database[1][i], neutral_database[0][i].astype('uint8'))\n",
    "        cv2.waitKey()\n",
    "        cv2.destroyAllWindows()"
   ]
  },
  {
   "cell_type": "code",
   "execution_count": 21,
   "metadata": {},
   "outputs": [
    {
     "ename": "KeyboardInterrupt",
     "evalue": "",
     "output_type": "error",
     "traceback": [
      "\u001b[1;31m---------------------------------------------------------------------------\u001b[0m",
      "\u001b[1;31mKeyboardInterrupt\u001b[0m                         Traceback (most recent call last)",
      "\u001b[1;32m<ipython-input-21-9e50fda27a50>\u001b[0m in \u001b[0;36m<module>\u001b[1;34m()\u001b[0m\n\u001b[1;32m----> 1\u001b[1;33m \u001b[0mprint_neutral_faces\u001b[0m\u001b[1;33m(\u001b[0m\u001b[0mneutral_data\u001b[0m\u001b[1;33m)\u001b[0m\u001b[1;33m\u001b[0m\u001b[0m\n\u001b[0m\u001b[0;32m      2\u001b[0m \u001b[1;33m\u001b[0m\u001b[0m\n",
      "\u001b[1;32m<ipython-input-20-968e1ca4e19b>\u001b[0m in \u001b[0;36mprint_neutral_faces\u001b[1;34m(neutral_database)\u001b[0m\n\u001b[0;32m      2\u001b[0m     \u001b[1;32mfor\u001b[0m \u001b[0mi\u001b[0m \u001b[1;32min\u001b[0m \u001b[0mrange\u001b[0m\u001b[1;33m(\u001b[0m\u001b[0mlen\u001b[0m\u001b[1;33m(\u001b[0m\u001b[0mneutral_database\u001b[0m\u001b[1;33m[\u001b[0m\u001b[1;36m0\u001b[0m\u001b[1;33m]\u001b[0m\u001b[1;33m)\u001b[0m\u001b[1;33m)\u001b[0m\u001b[1;33m:\u001b[0m\u001b[1;33m\u001b[0m\u001b[0m\n\u001b[0;32m      3\u001b[0m         \u001b[0mcv2\u001b[0m\u001b[1;33m.\u001b[0m\u001b[0mimshow\u001b[0m\u001b[1;33m(\u001b[0m\u001b[0mneutral_database\u001b[0m\u001b[1;33m[\u001b[0m\u001b[1;36m1\u001b[0m\u001b[1;33m]\u001b[0m\u001b[1;33m[\u001b[0m\u001b[0mi\u001b[0m\u001b[1;33m]\u001b[0m\u001b[1;33m,\u001b[0m \u001b[0mneutral_database\u001b[0m\u001b[1;33m[\u001b[0m\u001b[1;36m0\u001b[0m\u001b[1;33m]\u001b[0m\u001b[1;33m[\u001b[0m\u001b[0mi\u001b[0m\u001b[1;33m]\u001b[0m\u001b[1;33m.\u001b[0m\u001b[0mastype\u001b[0m\u001b[1;33m(\u001b[0m\u001b[1;34m'uint8'\u001b[0m\u001b[1;33m)\u001b[0m\u001b[1;33m)\u001b[0m\u001b[1;33m\u001b[0m\u001b[0m\n\u001b[1;32m----> 4\u001b[1;33m         \u001b[0mcv2\u001b[0m\u001b[1;33m.\u001b[0m\u001b[0mwaitKey\u001b[0m\u001b[1;33m(\u001b[0m\u001b[1;33m)\u001b[0m\u001b[1;33m\u001b[0m\u001b[0m\n\u001b[0m\u001b[0;32m      5\u001b[0m         \u001b[0mcv2\u001b[0m\u001b[1;33m.\u001b[0m\u001b[0mdestroyAllWindows\u001b[0m\u001b[1;33m(\u001b[0m\u001b[1;33m)\u001b[0m\u001b[1;33m\u001b[0m\u001b[0m\n",
      "\u001b[1;31mKeyboardInterrupt\u001b[0m: "
     ]
    }
   ],
   "source": [
    "print_neutral_faces(neutral_data)\n",
    "\n"
   ]
  },
  {
   "cell_type": "code",
   "execution_count": null,
   "metadata": {},
   "outputs": [],
   "source": []
  }
 ],
 "metadata": {
  "kernelspec": {
   "display_name": "Python 3",
   "language": "python",
   "name": "python3"
  },
  "language_info": {
   "codemirror_mode": {
    "name": "ipython",
    "version": 3
   },
   "file_extension": ".py",
   "mimetype": "text/x-python",
   "name": "python",
   "nbconvert_exporter": "python",
   "pygments_lexer": "ipython3",
   "version": "3.6.0"
  },
  "varInspector": {
   "cols": {
    "lenName": 16,
    "lenType": 16,
    "lenVar": 40
   },
   "kernels_config": {
    "python": {
     "delete_cmd_postfix": "",
     "delete_cmd_prefix": "del ",
     "library": "var_list.py",
     "varRefreshCmd": "print(var_dic_list())"
    },
    "r": {
     "delete_cmd_postfix": ") ",
     "delete_cmd_prefix": "rm(",
     "library": "var_list.r",
     "varRefreshCmd": "cat(var_dic_list()) "
    }
   },
   "types_to_exclude": [
    "module",
    "function",
    "builtin_function_or_method",
    "instance",
    "_Feature"
   ],
   "window_display": false
  }
 },
 "nbformat": 4,
 "nbformat_minor": 2
}
