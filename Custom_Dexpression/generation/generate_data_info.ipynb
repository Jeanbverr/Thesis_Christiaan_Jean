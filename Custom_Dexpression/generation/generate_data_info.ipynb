{
 "cells": [
  {
   "cell_type": "code",
   "execution_count": 1,
   "metadata": {},
   "outputs": [
    {
     "name": "stdout",
     "output_type": "stream",
     "text": [
      "found path with os.path.abspath('..'):  G:\\Documenten\\personal\\school\\MaNaMA_AI\\thesis\\implementation\\dexpression\\github_1\\github\\Thesis_Christiaan_Jean\\Custom_Dexpression\n",
      "hdf5 is not supported on this machine (please install/reinstall h5py for optimal experience)\n",
      "curses is not supported on this machine (please install/reinstall curses for an optimal experience)\n"
     ]
    }
   ],
   "source": [
    "import numpy as np\n",
    "import os\n",
    "import sys\n",
    "\n",
    "# adds the lower lying directory to the import path to import the other modules\n",
    "Lpath = os.path.abspath('..')\n",
    "print(\"found path with os.path.abspath('..'): \", Lpath)\n",
    "sys.path.insert(0, Lpath)\n",
    "\n",
    "from test_recursive_image_load_V2 import load_npy_files\n",
    "import logging\n",
    "from memory_profiler import memory_usage"
   ]
  },
  {
   "cell_type": "code",
   "execution_count": 2,
   "metadata": {},
   "outputs": [],
   "source": [
    "load_dir = 'CKP' #the directory that is created in the predivided_data directory\n",
    "\n",
    "\n",
    "# configure the logging    \n",
    "logfile = '../../data/'+load_dir+'/data_info.txt'\n",
    "\n",
    "if os.path.exists(logfile):\n",
    "    os.remove(logfile)\n",
    "\n",
    " # needs to be run to make sure the logfile is created in basicConfig\n",
    "for handler in logging.root.handlers[:]:\n",
    "    logging.root.removeHandler(handler)\n",
    "    \n",
    "logging.basicConfig(level=logging.DEBUG, filename = logfile, filemode=\"a+\",\n",
    "                    format=\"%(asctime)-15s %(levelname)-8s %(message)s\")\n",
    "logging.info(\"start logging to \" + logfile)\n",
    "\n",
    "\n"
   ]
  },
  {
   "cell_type": "code",
   "execution_count": 3,
   "metadata": {},
   "outputs": [],
   "source": [
    "def logprint(*arg):\n",
    "    string = \"str\"\n",
    "    stre = \"\"\n",
    "    for a in arg:\n",
    "        if(type(a) == type(string)):\n",
    "            stre = stre + \" \" +  a\n",
    "        else:\n",
    "            stre = stre + \" \" + repr(a)\n",
    "    print(stre)\n",
    "    logging.info(stre)\n",
    "\n",
    "def showInfo(Var,VarName = \"UnKnown\"):\n",
    "    logprint(\"----------------------\")\n",
    "    logprint(\"Name \" + repr(VarName))\n",
    "    logprint(\"type: \" + repr(type(Var)))\n",
    "    logprint(\"Dtype: \" + repr(Var.dtype))\n",
    "    logprint(\"shape: \" + repr(Var.shape))\n",
    "    \n",
    "def extract_classes(DNN_output):\n",
    "    classes = []  \n",
    "    for lab in DNN_output:\n",
    "        maxi = lab.max()\n",
    "        for i in range(0,len(lab)):\n",
    "            if(lab[i] == maxi):\n",
    "                classes.append(i)\n",
    "    return np.asarray(classes)"
   ]
  },
  {
   "cell_type": "code",
   "execution_count": 4,
   "metadata": {},
   "outputs": [],
   "source": [
    "def calculate_emotion_distru(Y_data):\n",
    "    Y_classes = extract_classes(Y_data)\n",
    "    [A,N,D,F,H,Sa,Su] = np.bincount(Y_classes)\n",
    "    i = np.sum([A,N,D,F,H,Sa,Su])\n",
    "    \n",
    "    A = int(A)\n",
    "    N = int(N)\n",
    "    D = int(D)\n",
    "    F = int(F)\n",
    "    H = int(H)\n",
    "    Sa = int(Sa)\n",
    "    Su = int(Su)\n",
    "    \n",
    "    return i,A,N,D,F,H,Sa,Su\n",
    "\n",
    "def number_of_subjects(X_subID):\n",
    "    return ((np.unique(X_subID)).shape[0])\n",
    "    "
   ]
  },
  {
   "cell_type": "code",
   "execution_count": 5,
   "metadata": {},
   "outputs": [
    {
     "name": "stdout",
     "output_type": "stream",
     "text": [
      "[WARNING] could not load from path: ./data/CKP \n",
      " because of: [Errno 2] No such file or directory: './data/CKP/X.npy' error\n",
      "[WARNING] could not load from path: ./../data/CKP \n",
      " because of: [Errno 2] No such file or directory: './../data/CKP/X.npy' error\n",
      "[SUCCEED]data found in path:  ./../../data/CKP\n",
      "Name  X_data\n",
      "type:  <class 'numpy.ndarray'>\n",
      "Dtype:  float64\n",
      "shape:  (327, 224, 224, 1)\n",
      "Name  Y_data\n",
      "type:  <class 'numpy.ndarray'>\n",
      "Dtype:  float64\n",
      "shape:  (327, 7)\n",
      "Name  X_subID\n",
      "type:  <class 'numpy.ndarray'>\n",
      "Dtype:  uint8\n",
      "shape:  (327,)\n"
     ]
    }
   ],
   "source": [
    "#  load the dataset\n",
    "[X_data, Y_data, X_subID] = load_npy_files(5,load_dir)\n"
   ]
  },
  {
   "cell_type": "code",
   "execution_count": 6,
   "metadata": {},
   "outputs": [
    {
     "name": "stdout",
     "output_type": "stream",
     "text": [
      " Dataset name =  CKP\n",
      " General Size of arrays info\n",
      " ----------------------\n",
      " Name 'X_data'\n",
      " type: <class 'numpy.ndarray'>\n",
      " Dtype: dtype('float64')\n",
      " shape: (327, 224, 224, 1)\n",
      " ----------------------\n",
      " Name 'Y_data'\n",
      " type: <class 'numpy.ndarray'>\n",
      " Dtype: dtype('float64')\n",
      " shape: (327, 7)\n",
      " ----------------------\n",
      " Name 'X_subID'\n",
      " type: <class 'numpy.ndarray'>\n",
      " Dtype: dtype('uint8')\n",
      " shape: (327,)\n",
      " \n"
     ]
    }
   ],
   "source": [
    "# log the general size info of the arrays\n",
    "logprint(\"Dataset name = \", load_dir )\n",
    "logprint(\"General Size of arrays info\")\n",
    "showInfo(X_data,'X_data')\n",
    "showInfo(Y_data,'Y_data')\n",
    "showInfo(X_subID,'X_subID')\n",
    "logprint(\"\")"
   ]
  },
  {
   "cell_type": "code",
   "execution_count": 7,
   "metadata": {},
   "outputs": [
    {
     "name": "stdout",
     "output_type": "stream",
     "text": [
      " Maximum memory [324.69140625]\n",
      " \n"
     ]
    }
   ],
   "source": [
    "# log the amount of memory used\n",
    "mem_usage = memory_usage(-1, interval=1, timeout=1)\n",
    "str = 'Maximum memory ' + repr( mem_usage)\n",
    "logprint(str)\n",
    "logprint(\"\")"
   ]
  },
  {
   "cell_type": "code",
   "execution_count": 8,
   "metadata": {},
   "outputs": [],
   "source": [
    "sub = number_of_subjects(X_subID)\n",
    "i,A,N,D,F,H,Sa,Su = calculate_emotion_distru(Y_data)"
   ]
  },
  {
   "cell_type": "code",
   "execution_count": 12,
   "metadata": {},
   "outputs": [
    {
     "name": "stdout",
     "output_type": "stream",
     "text": [
      "<class 'int'>\n",
      "<class 'int'>\n",
      "<class 'int'>\n",
      "<class 'int'>\n",
      "<class 'int'>\n",
      "<class 'int'>\n",
      "<class 'int'>\n",
      "<class 'int'>\n",
      "<class 'int'>\n",
      "hello 45\n"
     ]
    }
   ],
   "source": [
    "print(type(sub))\n",
    "print(type(A))\n",
    "print(type(N))\n",
    "print(type(D))\n",
    "print(type(F))\n",
    "print(type(H))\n",
    "print(type(N))\n",
    "print(type(A))\n",
    "print(type(N))\n",
    "print(\"hello \" + repr(A))"
   ]
  },
  {
   "cell_type": "code",
   "execution_count": 13,
   "metadata": {},
   "outputs": [
    {
     "name": "stdout",
     "output_type": "stream",
     "text": [
      " the distribution of the emotions in the dataset\n",
      " --------- Overal stattistics ---------  \n",
      " amount of Subjects  : 117\n",
      " amount of Instances : 327\n",
      " index = 0 = Anger      45 instances: 13.76\n",
      " index = 1 = Neutral    18 instances: 5.5\n",
      " index = 2 = Disgust    59 instances: 18.04\n",
      " index = 3 = Fear       25 instances: 7.65\n",
      " index = 4 = Happy      69 instances: 21.1\n",
      " index = 5 = Saddness   28 instances: 8.56\n",
      " index = 6 = Surprise   83 instances: 25.38\n"
     ]
    }
   ],
   "source": [
    "#  the distribution of the emotions in the dataset\n",
    "logprint(\"the distribution of the emotions in the dataset\")\n",
    "logprint(\"--------- Overal stattistics ---------  \")\n",
    "logprint(\"amount of Subjects  : \" + repr(sub))\n",
    "logprint(\"amount of Instances : \" + repr(i))\n",
    "logprint(\"index = 0 = Anger      \" + repr(A) + \" instances: \" + repr(np.round((float(A)/i)*100,decimals=2)))\n",
    "logprint(\"index = 1 = Neutral    \" + repr(N) + \" instances: \" + repr(np.round((float(N)/i)*100,decimals=2)))\n",
    "logprint(\"index = 2 = Disgust    \" + repr(D) + \" instances: \"+ repr(np.round((float(D)/i)*100,decimals=2)))\n",
    "logprint(\"index = 3 = Fear       \" + repr(F) + \" instances: \"+ repr(np.round((float(F)/i)*100,decimals=2)))\n",
    "logprint(\"index = 4 = Happy      \" + repr(H) + \" instances: \"+ repr(np.round((float(H)/i)*100,decimals=2)))\n",
    "logprint(\"index = 5 = Saddness   \" + repr(Sa) +\" instances: \"+ repr(np.round((float(Sa)/i)*100,decimals=2)))\n",
    "logprint(\"index = 6 = Surprise   \" + repr(Su) +\" instances: \"+ repr(np.round((float(Su)/i)*100,decimals=2)))\n",
    "\n",
    "\n"
   ]
  },
  {
   "cell_type": "code",
   "execution_count": null,
   "metadata": {},
   "outputs": [],
   "source": []
  }
 ],
 "metadata": {
  "kernelspec": {
   "display_name": "Python 3",
   "language": "python",
   "name": "python3"
  },
  "language_info": {
   "codemirror_mode": {
    "name": "ipython",
    "version": 3
   },
   "file_extension": ".py",
   "mimetype": "text/x-python",
   "name": "python",
   "nbconvert_exporter": "python",
   "pygments_lexer": "ipython3",
   "version": "3.6.0"
  },
  "varInspector": {
   "cols": {
    "lenName": 16,
    "lenType": 16,
    "lenVar": 40
   },
   "kernels_config": {
    "python": {
     "delete_cmd_postfix": "",
     "delete_cmd_prefix": "del ",
     "library": "var_list.py",
     "varRefreshCmd": "print(var_dic_list())"
    },
    "r": {
     "delete_cmd_postfix": ") ",
     "delete_cmd_prefix": "rm(",
     "library": "var_list.r",
     "varRefreshCmd": "cat(var_dic_list()) "
    }
   },
   "position": {
    "height": "474px",
    "left": "1654.32px",
    "right": "20px",
    "top": "118.993px",
    "width": "438px"
   },
   "types_to_exclude": [
    "module",
    "function",
    "builtin_function_or_method",
    "instance",
    "_Feature"
   ],
   "window_display": false
  }
 },
 "nbformat": 4,
 "nbformat_minor": 2
}
