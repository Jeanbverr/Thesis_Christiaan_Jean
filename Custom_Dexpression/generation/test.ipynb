{
 "cells": [
  {
   "cell_type": "code",
   "execution_count": 8,
   "metadata": {},
   "outputs": [
    {
     "name": "stdout",
     "output_type": "stream",
     "text": [
      "(2, 7)\n",
      "[ 1  5  6  7 10 19  2]\n",
      "[0 6 1 2 3 4 5]\n",
      "[ 1  2  5  6  7 10 19]\n"
     ]
    }
   ],
   "source": [
    "import numpy as np\n",
    "\n",
    "\n",
    "a = np.array([[ 1, 5 ,6 ,7 ,10 ,19 ,2],[1,2,3,4,5,6,7]])\n",
    "\n",
    "#wanted outcome = [[1,2,5,6,7,10,19],[1,7,2,3,4,5,6]]\n",
    "\n",
    "\n",
    "\n",
    "print(repr(a.shape))\n",
    "ind = np.argsort(a[0],kind='mergesort',axis = 0)\n",
    "print(a[0])\n",
    "print(ind)\n",
    "print(a[0][ind])\n",
    "\n"
   ]
  },
  {
   "cell_type": "code",
   "execution_count": null,
   "metadata": {},
   "outputs": [],
   "source": []
  }
 ],
 "metadata": {
  "kernelspec": {
   "display_name": "Python 3",
   "language": "python",
   "name": "python3"
  },
  "language_info": {
   "codemirror_mode": {
    "name": "ipython",
    "version": 3
   },
   "file_extension": ".py",
   "mimetype": "text/x-python",
   "name": "python",
   "nbconvert_exporter": "python",
   "pygments_lexer": "ipython3",
   "version": "3.6.0"
  }
 },
 "nbformat": 4,
 "nbformat_minor": 2
}
